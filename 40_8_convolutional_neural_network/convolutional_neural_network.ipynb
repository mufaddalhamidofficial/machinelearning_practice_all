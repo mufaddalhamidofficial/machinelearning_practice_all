{
  "cells": [
    {
      "cell_type": "markdown",
      "metadata": {
        "colab_type": "text",
        "id": "3DR-eO17geWu"
      },
      "source": [
        "# Convolutional Neural Network"
      ]
    },
    {
      "cell_type": "markdown",
      "metadata": {
        "colab_type": "text",
        "id": "EMefrVPCg-60"
      },
      "source": [
        "### Importing the libraries"
      ]
    },
    {
      "cell_type": "code",
      "execution_count": 1,
      "metadata": {},
      "outputs": [],
      "source": [
        "import tensorflow as tf\n",
        "from keras.preprocessing.image import ImageDataGenerator\n"
      ]
    },
    {
      "cell_type": "code",
      "execution_count": 11,
      "metadata": {},
      "outputs": [
        {
          "data": {
            "text/plain": [
              "'2.13.0'"
            ]
          },
          "execution_count": 11,
          "metadata": {},
          "output_type": "execute_result"
        }
      ],
      "source": [
        "tf.__version__"
      ]
    },
    {
      "cell_type": "markdown",
      "metadata": {
        "colab_type": "text",
        "id": "oxQxCBWyoGPE"
      },
      "source": [
        "## Part 1 - Data Preprocessing"
      ]
    },
    {
      "cell_type": "markdown",
      "metadata": {
        "colab_type": "text",
        "id": "MvE-heJNo3GG"
      },
      "source": [
        "### Preprocessing the Training set"
      ]
    },
    {
      "cell_type": "code",
      "execution_count": 12,
      "metadata": {},
      "outputs": [
        {
          "name": "stdout",
          "output_type": "stream",
          "text": [
            "Found 8000 images belonging to 2 classes.\n"
          ]
        }
      ],
      "source": [
        "train_gen = ImageDataGenerator(\n",
        "    rescale=1 / 255,\n",
        "    shear_range=0.2,\n",
        "    zoom_range=0.2,\n",
        "    horizontal_flip=True,\n",
        ")\n",
        "training_set = train_gen.flow_from_directory(\n",
        "    \"dataset/training_set\",\n",
        "    target_size=(64, 64),\n",
        "    batch_size=32,\n",
        "    class_mode=\"binary\",\n",
        ")"
      ]
    },
    {
      "cell_type": "markdown",
      "metadata": {
        "colab_type": "text",
        "id": "mrCMmGw9pHys"
      },
      "source": [
        "### Preprocessing the Test set"
      ]
    },
    {
      "cell_type": "code",
      "execution_count": 13,
      "metadata": {},
      "outputs": [
        {
          "name": "stdout",
          "output_type": "stream",
          "text": [
            "Found 2000 images belonging to 2 classes.\n"
          ]
        }
      ],
      "source": [
        "test_gen = ImageDataGenerator(rescale=1 / 255)\n",
        "test_set = test_gen.flow_from_directory(\n",
        "    \"dataset/test_set\",\n",
        "    target_size=(64, 64),\n",
        "    batch_size=32,\n",
        "    class_mode=\"binary\",\n",
        ")"
      ]
    },
    {
      "cell_type": "markdown",
      "metadata": {
        "colab_type": "text",
        "id": "af8O4l90gk7B"
      },
      "source": [
        "## Part 2 - Building the CNN"
      ]
    },
    {
      "cell_type": "markdown",
      "metadata": {
        "colab_type": "text",
        "id": "ces1gXY2lmoX"
      },
      "source": [
        "### Initialising the CNN"
      ]
    },
    {
      "cell_type": "code",
      "execution_count": 14,
      "metadata": {},
      "outputs": [],
      "source": [
        "cnn = tf.keras.models.Sequential()"
      ]
    },
    {
      "cell_type": "markdown",
      "metadata": {
        "colab_type": "text",
        "id": "u5YJj_XMl5LF"
      },
      "source": [
        "### Step 1 - Convolution"
      ]
    },
    {
      "cell_type": "code",
      "execution_count": 15,
      "metadata": {},
      "outputs": [],
      "source": [
        "cnn.add(\n",
        "    tf.keras.layers.Conv2D(\n",
        "        filters=32, kernel_size=3, activation=\"relu\", input_shape=[64, 64, 3]\n",
        "    )\n",
        ")"
      ]
    },
    {
      "cell_type": "markdown",
      "metadata": {
        "colab_type": "text",
        "id": "tf87FpvxmNOJ"
      },
      "source": [
        "### Step 2 - Pooling"
      ]
    },
    {
      "cell_type": "code",
      "execution_count": 16,
      "metadata": {},
      "outputs": [],
      "source": [
        "cnn.add(tf.keras.layers.MaxPool2D(pool_size=2, strides=2))"
      ]
    },
    {
      "cell_type": "markdown",
      "metadata": {
        "colab_type": "text",
        "id": "xaTOgD8rm4mU"
      },
      "source": [
        "### Adding a second convolutional layer"
      ]
    },
    {
      "cell_type": "code",
      "execution_count": 17,
      "metadata": {},
      "outputs": [],
      "source": [
        "cnn.add(tf.keras.layers.Conv2D(filters=32, kernel_size=3, activation=\"relu\"))\n",
        "cnn.add(tf.keras.layers.MaxPool2D(pool_size=2, strides=2))"
      ]
    },
    {
      "cell_type": "markdown",
      "metadata": {
        "colab_type": "text",
        "id": "tmiEuvTunKfk"
      },
      "source": [
        "### Step 3 - Flattening"
      ]
    },
    {
      "cell_type": "code",
      "execution_count": 18,
      "metadata": {},
      "outputs": [],
      "source": [
        "cnn.add(tf.keras.layers.Flatten())"
      ]
    },
    {
      "cell_type": "markdown",
      "metadata": {
        "colab_type": "text",
        "id": "dAoSECOm203v"
      },
      "source": [
        "### Step 4 - Full Connection"
      ]
    },
    {
      "cell_type": "code",
      "execution_count": 19,
      "metadata": {},
      "outputs": [],
      "source": [
        "cnn.add(tf.keras.layers.Dense(units = 128, activation='relu'))"
      ]
    },
    {
      "cell_type": "markdown",
      "metadata": {
        "colab_type": "text",
        "id": "yTldFvbX28Na"
      },
      "source": [
        "### Step 5 - Output Layer"
      ]
    },
    {
      "cell_type": "code",
      "execution_count": 20,
      "metadata": {},
      "outputs": [],
      "source": [
        "cnn.add(tf.keras.layers.Dense(units = 1, activation='sigmoid'))"
      ]
    },
    {
      "cell_type": "markdown",
      "metadata": {
        "colab_type": "text",
        "id": "D6XkI90snSDl"
      },
      "source": [
        "## Part 3 - Training the CNN"
      ]
    },
    {
      "cell_type": "markdown",
      "metadata": {
        "colab_type": "text",
        "id": "vfrFQACEnc6i"
      },
      "source": [
        "### Compiling the CNN"
      ]
    },
    {
      "cell_type": "code",
      "execution_count": 21,
      "metadata": {},
      "outputs": [],
      "source": [
        "cnn.compile('adam', loss='binary_crossentropy', metrics=['accuracy'])"
      ]
    },
    {
      "cell_type": "markdown",
      "metadata": {
        "colab_type": "text",
        "id": "ehS-v3MIpX2h"
      },
      "source": [
        "### Training the CNN on the Training set and evaluating it on the Test set"
      ]
    },
    {
      "cell_type": "code",
      "execution_count": 22,
      "metadata": {},
      "outputs": [
        {
          "name": "stdout",
          "output_type": "stream",
          "text": [
            "Epoch 1/25\n",
            "250/250 [==============================] - 131s 502ms/step - loss: 0.6754 - accuracy: 0.5785 - val_loss: 0.6917 - val_accuracy: 0.5730\n",
            "Epoch 2/25\n",
            "250/250 [==============================] - 78s 313ms/step - loss: 0.6301 - accuracy: 0.6496 - val_loss: 0.6357 - val_accuracy: 0.6405\n",
            "Epoch 3/25\n",
            "250/250 [==============================] - 91s 362ms/step - loss: 0.5789 - accuracy: 0.6971 - val_loss: 0.5626 - val_accuracy: 0.7215\n",
            "Epoch 4/25\n",
            "250/250 [==============================] - 98s 392ms/step - loss: 0.5495 - accuracy: 0.7207 - val_loss: 0.5605 - val_accuracy: 0.7100\n",
            "Epoch 5/25\n",
            "250/250 [==============================] - 90s 361ms/step - loss: 0.5202 - accuracy: 0.7458 - val_loss: 0.5457 - val_accuracy: 0.7320\n",
            "Epoch 6/25\n",
            "250/250 [==============================] - 92s 368ms/step - loss: 0.5012 - accuracy: 0.7536 - val_loss: 0.4832 - val_accuracy: 0.7645\n",
            "Epoch 7/25\n",
            "250/250 [==============================] - 65s 260ms/step - loss: 0.4789 - accuracy: 0.7682 - val_loss: 0.4977 - val_accuracy: 0.7620\n",
            "Epoch 8/25\n",
            "250/250 [==============================] - 72s 286ms/step - loss: 0.4640 - accuracy: 0.7801 - val_loss: 0.4706 - val_accuracy: 0.7740\n",
            "Epoch 9/25\n",
            "250/250 [==============================] - 73s 292ms/step - loss: 0.4515 - accuracy: 0.7870 - val_loss: 0.4654 - val_accuracy: 0.7845\n",
            "Epoch 10/25\n",
            "250/250 [==============================] - 71s 282ms/step - loss: 0.4342 - accuracy: 0.7920 - val_loss: 0.5197 - val_accuracy: 0.7640\n",
            "Epoch 11/25\n",
            "250/250 [==============================] - 67s 269ms/step - loss: 0.4135 - accuracy: 0.8046 - val_loss: 0.5047 - val_accuracy: 0.7785\n",
            "Epoch 12/25\n",
            "250/250 [==============================] - 68s 273ms/step - loss: 0.4000 - accuracy: 0.8161 - val_loss: 0.4716 - val_accuracy: 0.7915\n",
            "Epoch 13/25\n",
            "250/250 [==============================] - 69s 277ms/step - loss: 0.3872 - accuracy: 0.8219 - val_loss: 0.4510 - val_accuracy: 0.7940\n",
            "Epoch 14/25\n",
            "250/250 [==============================] - 68s 273ms/step - loss: 0.3792 - accuracy: 0.8290 - val_loss: 0.4831 - val_accuracy: 0.7805\n",
            "Epoch 15/25\n",
            "250/250 [==============================] - 73s 293ms/step - loss: 0.3670 - accuracy: 0.8340 - val_loss: 0.4794 - val_accuracy: 0.7870\n",
            "Epoch 16/25\n",
            "250/250 [==============================] - 78s 313ms/step - loss: 0.3562 - accuracy: 0.8407 - val_loss: 0.4891 - val_accuracy: 0.7930\n",
            "Epoch 17/25\n",
            "250/250 [==============================] - 74s 295ms/step - loss: 0.3372 - accuracy: 0.8504 - val_loss: 0.4572 - val_accuracy: 0.8040\n",
            "Epoch 18/25\n",
            "250/250 [==============================] - 76s 305ms/step - loss: 0.3221 - accuracy: 0.8562 - val_loss: 0.5132 - val_accuracy: 0.7965\n",
            "Epoch 19/25\n",
            "250/250 [==============================] - 74s 295ms/step - loss: 0.3041 - accuracy: 0.8706 - val_loss: 0.5414 - val_accuracy: 0.7835\n",
            "Epoch 20/25\n",
            "250/250 [==============================] - 68s 270ms/step - loss: 0.2964 - accuracy: 0.8725 - val_loss: 0.4966 - val_accuracy: 0.8090\n",
            "Epoch 21/25\n",
            "250/250 [==============================] - 70s 278ms/step - loss: 0.2797 - accuracy: 0.8777 - val_loss: 0.5017 - val_accuracy: 0.7980\n",
            "Epoch 22/25\n",
            "250/250 [==============================] - 76s 303ms/step - loss: 0.2729 - accuracy: 0.8848 - val_loss: 0.5246 - val_accuracy: 0.7970\n",
            "Epoch 23/25\n",
            "250/250 [==============================] - 72s 287ms/step - loss: 0.2584 - accuracy: 0.8886 - val_loss: 0.5665 - val_accuracy: 0.7815\n",
            "Epoch 24/25\n",
            "250/250 [==============================] - 69s 276ms/step - loss: 0.2457 - accuracy: 0.8959 - val_loss: 0.5215 - val_accuracy: 0.8095\n",
            "Epoch 25/25\n",
            "250/250 [==============================] - 72s 288ms/step - loss: 0.2336 - accuracy: 0.9032 - val_loss: 0.5125 - val_accuracy: 0.8055\n"
          ]
        },
        {
          "data": {
            "text/plain": [
              "<keras.src.callbacks.History at 0x2b9078f2950>"
            ]
          },
          "execution_count": 22,
          "metadata": {},
          "output_type": "execute_result"
        }
      ],
      "source": [
        "cnn.fit(x = training_set, validation_data=test_set, epochs=25 )"
      ]
    },
    {
      "cell_type": "markdown",
      "metadata": {
        "colab_type": "text",
        "id": "U3PZasO0006Z"
      },
      "source": [
        "## Part 4 - Making a single prediction"
      ]
    },
    {
      "cell_type": "code",
      "execution_count": 23,
      "metadata": {},
      "outputs": [
        {
          "name": "stdout",
          "output_type": "stream",
          "text": [
            "{'cats': 0, 'dogs': 1}\n"
          ]
        }
      ],
      "source": [
        "print(training_set.class_indices)"
      ]
    },
    {
      "cell_type": "code",
      "execution_count": 46,
      "metadata": {},
      "outputs": [
        {
          "name": "stdout",
          "output_type": "stream",
          "text": [
            "1/1 [==============================] - 0s 48ms/step\n",
            "Dog\n"
          ]
        }
      ],
      "source": [
        "import numpy as np\n",
        "from keras.preprocessing import image\n",
        "\n",
        "test_image = image.load_img('dataset/single_prediction/6.jpg', target_size=(64,64))\n",
        "test_image = image.img_to_array(test_image)\n",
        "test_image = np.expand_dims(test_image, axis = 0)\n",
        "result = cnn.predict(test_image)\n",
        "\n",
        "if result[0][0] == 1:\n",
        "  prediction = 'Dog'\n",
        "else:\n",
        "  prediction = 'Cat'\n",
        "  \n",
        "print(prediction)"
      ]
    },
    {
      "cell_type": "code",
      "execution_count": 50,
      "metadata": {},
      "outputs": [],
      "source": [
        "cnn.save('model.keras')"
      ]
    },
    {
      "cell_type": "code",
      "execution_count": 2,
      "metadata": {},
      "outputs": [],
      "source": [
        "model = tf.keras.models.load_model('model.keras')"
      ]
    },
    {
      "cell_type": "code",
      "execution_count": 10,
      "metadata": {},
      "outputs": [
        {
          "name": "stdout",
          "output_type": "stream",
          "text": [
            "1/1 [==============================] - 0s 44ms/step\n",
            "Dog\n"
          ]
        }
      ],
      "source": [
        "import numpy as np\n",
        "from keras.preprocessing import image\n",
        "\n",
        "test_image = image.load_img('dataset/single_prediction/6.jpg', target_size=(64,64))\n",
        "test_image = image.img_to_array(test_image)\n",
        "test_image = np.expand_dims(test_image, axis = 0)\n",
        "result = model.predict(test_image)\n",
        "\n",
        "if result[0][0] == 1:\n",
        "  prediction = 'Dog'\n",
        "else:\n",
        "  prediction = 'Cat'\n",
        "  \n",
        "print(prediction)"
      ]
    }
  ],
  "metadata": {
    "colab": {
      "collapsed_sections": [],
      "name": "convolutional_neural_network.ipynb",
      "provenance": [],
      "toc_visible": true
    },
    "kernelspec": {
      "display_name": "Python 3",
      "name": "python3"
    },
    "language_info": {
      "codemirror_mode": {
        "name": "ipython",
        "version": 3
      },
      "file_extension": ".py",
      "mimetype": "text/x-python",
      "name": "python",
      "nbconvert_exporter": "python",
      "pygments_lexer": "ipython3",
      "version": "3.11.4"
    }
  },
  "nbformat": 4,
  "nbformat_minor": 0
}
